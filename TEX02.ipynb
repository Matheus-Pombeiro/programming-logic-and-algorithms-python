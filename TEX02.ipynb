{
  "nbformat": 4,
  "nbformat_minor": 0,
  "metadata": {
    "colab": {
      "provenance": [],
      "authorship_tag": "ABX9TyOofeeuhS4O0FHfq4BUN3lH",
      "include_colab_link": true
    },
    "kernelspec": {
      "name": "python3",
      "display_name": "Python 3"
    },
    "language_info": {
      "name": "python"
    }
  },
  "cells": [
    {
      "cell_type": "markdown",
      "metadata": {
        "id": "view-in-github",
        "colab_type": "text"
      },
      "source": [
        "<a href=\"https://colab.research.google.com/github/Matheus-Pombeiro/programming-logic-and-algorithms-python/blob/main/TEX02.ipynb\" target=\"_parent\"><img src=\"https://colab.research.google.com/assets/colab-badge.svg\" alt=\"Open In Colab\"/></a>"
      ]
    },
    {
      "cell_type": "code",
      "execution_count": null,
      "metadata": {
        "colab": {
          "base_uri": "https://localhost:8080/"
        },
        "id": "RmYZrzP26va-",
        "outputId": "7c159a31-934c-42cc-fb43-a5c64274377f"
      },
      "outputs": [
        {
          "output_type": "stream",
          "name": "stdout",
          "text": [
            "Bem-vindo(a) à Loja de Gelados do Matheus Vinicius Garcia Pombeiro\n",
            "-------------------- Cardápio --------------------\n",
            "------| Tamanho | Cupuaçu (CP) | Açaí (AC) |------\n",
            "------|    P    |    R$ 9,00   |  R$ 11,00 |------\n",
            "------|    M    |    R$ 14,00  |  R$ 16,00 |------\n",
            "------|    G    |    R$ 18,00  |  R$ 20,00 |------\n",
            "--------------------------------------------------\n",
            "Entre com o sabor desejado (CP/AC): aa\n",
            "Sabor inválido. Tente novamente.\n",
            "\n",
            "Entre com o sabor desejado (CP/AC): cp\n",
            "Entre com o tamanho desejado (P/M/G): k\n",
            "Tamanho inválido. Tente novamente.\n",
            "\n",
            "Entre com o sabor desejado (CP/AC): ac\n",
            "Entre com o tamanho desejado (P/M/G): m\n",
            "\n",
            "Você pediu AÇAÍ no tamanho M: R$ 16.00\n",
            "\n",
            "Deseja mais alguma coisa (s/digite outra tecla)? s\n",
            "Entre com o sabor desejado (CP/AC): cp\n",
            "Entre com o tamanho desejado (P/M/G): g\n",
            "\n",
            "Você pediu CUPUAÇU no tamanho G: R$ 18.00\n",
            "\n",
            "Deseja mais alguma coisa (s/digite outra tecla)? n\n",
            "O valor total a ser pago: R$ 34.00\n"
          ]
        }
      ],
      "source": [
        "#Mensagem de entrada\n",
        "print('Bem-vindo(a) à Loja de Gelados do Matheus Vinicius Garcia Pombeiro');\n",
        "print('-' * 20, 'Cardápio', '-' * 20);\n",
        "print('------| Tamanho | Cupuaçu (CP) | Açaí (AC) |------');\n",
        "print('------|    P    |    R$ 9,00   |  R$ 11,00 |------');\n",
        "print('------|    M    |    R$ 14,00  |  R$ 16,00 |------');\n",
        "print('------|    G    |    R$ 18,00  |  R$ 20,00 |------');\n",
        "print('-' * 50);\n",
        "\n",
        "total = 0;  #Declara e inicializa uma variável para somar o total do pedido\n",
        "\n",
        "while True:\n",
        "  #Recebe e trata os dados\n",
        "  inSabor = input('Entre com o sabor desejado (CP/AC): ');\n",
        "  if (inSabor not in 'CPcp' and inSabor not in 'ACac'):\n",
        "    print('Sabor inválido. Tente novamente.\\n');\n",
        "    continue;\n",
        "  inTamanho = input('Entre com o tamanho desejado (P/M/G): ');\n",
        "  if (inTamanho not in 'Pp' and inTamanho not in 'Mm' and inTamanho not in 'Gg'):\n",
        "    print('Tamanho inválido. Tente novamente.\\n');\n",
        "    continue;\n",
        "\n",
        "  #Implementa o valor\n",
        "  if (inSabor in 'CPcp' and inTamanho in 'Pp'):\n",
        "    outSabor = 'CUPUAÇU';\n",
        "    outTamanho = 'P';\n",
        "    valor = 9;\n",
        "  elif (inSabor in 'CPcp' and inTamanho in 'Mm'):\n",
        "    outSabor = 'CUPUAÇU';\n",
        "    outTamanho = 'M';\n",
        "    valor = 14;\n",
        "  elif (inSabor in 'CPcp' and inTamanho in 'Gg'):\n",
        "    outSabor = 'CUPUAÇU';\n",
        "    outTamanho = 'G';\n",
        "    valor = 18;\n",
        "  elif (inSabor in 'ACac' and inTamanho in 'Pp'):\n",
        "    outSabor = 'AÇAÍ';\n",
        "    outTamanho = 'P';\n",
        "    valor = 11;\n",
        "  elif (inSabor in 'ACac' and inTamanho in 'Mm'):\n",
        "    outSabor = 'AÇAÍ';\n",
        "    outTamanho = 'M';\n",
        "    valor = 16;\n",
        "  elif (inSabor in 'ACac' and inTamanho in 'Gg'):\n",
        "    outSabor = 'AÇAÍ';\n",
        "    outTamanho = 'G';\n",
        "    valor = 20;\n",
        "\n",
        "  #Inprime os dados de cada pedido para o usário\n",
        "  print('\\nVocê pediu {} no tamanho {}: R$ {:.2f}'.format(outSabor, outTamanho, valor));\n",
        "\n",
        "  total += valor; #Soma o pedido no loop\n",
        "\n",
        "  #Verifica a intensão do usuário de continuar pedindo ou de sair\n",
        "  res = input('\\nDeseja mais alguma coisa (s/digite outra tecla)? ');\n",
        "  if (res not in 'Ss'):\n",
        "    break;\n",
        "\n",
        "#Imprime o valor total dos pedidos para o usuário\n",
        "print('O valor total a ser pago: R$ {:.2f}'.format(total));"
      ]
    }
  ]
}