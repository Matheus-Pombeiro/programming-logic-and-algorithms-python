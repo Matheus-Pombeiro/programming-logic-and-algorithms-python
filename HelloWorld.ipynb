{
  "nbformat": 4,
  "nbformat_minor": 0,
  "metadata": {
    "colab": {
      "provenance": [],
      "authorship_tag": "ABX9TyNCPyLt8DRh0izLHImEIX99",
      "include_colab_link": true
    },
    "kernelspec": {
      "name": "python3",
      "display_name": "Python 3"
    },
    "language_info": {
      "name": "python"
    }
  },
  "cells": [
    {
      "cell_type": "markdown",
      "metadata": {
        "id": "view-in-github",
        "colab_type": "text"
      },
      "source": [
        "<a href=\"https://colab.research.google.com/github/Matheus-Pombeiro/programming-logic-and-algorithms-python/blob/main/HelloWorld.ipynb\" target=\"_parent\"><img src=\"https://colab.research.google.com/assets/colab-badge.svg\" alt=\"Open In Colab\"/></a>"
      ]
    },
    {
      "cell_type": "code",
      "execution_count": null,
      "metadata": {
        "colab": {
          "base_uri": "https://localhost:8080/"
        },
        "id": "eX_ZVPi8NmUm",
        "outputId": "24c49779-5574-4655-95bb-cf55e43d2576"
      },
      "outputs": [
        {
          "output_type": "stream",
          "name": "stdout",
          "text": [
            "Hello, World!\n",
            "\n",
            "My name is Matheus Pombeiro and I'm 23 years old.\n",
            "I have studied 3 programming languages since a year ago, which are: JavaScript, C# and Python.\n",
            "\n",
            "My name contains 16 caracters.\n"
          ]
        }
      ],
      "source": [
        "print(\"Hello, World!\");\n",
        "\n",
        "name = \"Matheus Pombeiro\";\n",
        "age = 23;\n",
        "\n",
        "print(\"\\nMy name is\", name, \"and I'm\", age, \"years old.\");\n",
        "\n",
        "numberOfLanguages = 3;\n",
        "languages = \"JavaScript, C# and Python\";\n",
        "\n",
        "print(\"I have studied {} programming languages since a year ago, which are: {}.\" .format(numberOfLanguages, languages));\n",
        "\n",
        "length = len(name);\n",
        "\n",
        "print(\"\\nMy name contains {} caracters.\" .format(length))\n",
        "\n"
      ]
    }
  ]
}