{
  "nbformat": 4,
  "nbformat_minor": 0,
  "metadata": {
    "colab": {
      "provenance": [],
      "authorship_tag": "ABX9TyPqbvGETPfrIl78Z/YAOoSM",
      "include_colab_link": true
    },
    "kernelspec": {
      "name": "python3",
      "display_name": "Python 3"
    },
    "language_info": {
      "name": "python"
    }
  },
  "cells": [
    {
      "cell_type": "markdown",
      "metadata": {
        "id": "view-in-github",
        "colab_type": "text"
      },
      "source": [
        "<a href=\"https://colab.research.google.com/github/Matheus-Pombeiro/programming-logic-and-algorithms-python/blob/main/TEX01.ipynb\" target=\"_parent\"><img src=\"https://colab.research.google.com/assets/colab-badge.svg\" alt=\"Open In Colab\"/></a>"
      ]
    },
    {
      "cell_type": "code",
      "execution_count": null,
      "metadata": {
        "colab": {
          "base_uri": "https://localhost:8080/"
        },
        "id": "rrLkMSNdqPnb",
        "outputId": "994fffae-bf72-4b66-da80-a305cc3f1f98"
      },
      "outputs": [
        {
          "output_type": "stream",
          "name": "stdout",
          "text": [
            "Bem-vindo(a) à Loja do Matheus Vinicius Garcia Pombeiro - RU: 4520783\n",
            "Entre com o valor unitário do produto: R$ 11000\n",
            "Entre com a quantidade do produto: 1\n",
            "O valor total sem desconto foi: R$ 11000.00\n",
            "O valor total com desconto foi: R$ 9790.00 - (desconto 11%)\n"
          ]
        }
      ],
      "source": [
        "#Mensagen inicial\n",
        "print('Bem-vindo(a) à Loja do Matheus Vinicius Garcia Pombeiro - RU: 4520783');\n",
        "\n",
        "#Recebe os dados de entrada\n",
        "valorUnitario = float(input('Entre com o valor unitário do produto: R$ '));\n",
        "quantidade = int(input('Entre com a quantidade do produto: '));\n",
        "\n",
        "#Processa os dados\n",
        "total = valorUnitario * quantidade;\n",
        "if(total >= 2500 and total < 6000):\n",
        "  taxa = 4;\n",
        "  desconto = total * taxa / 100;\n",
        "elif(total >= 6000 and total < 10000):\n",
        "  taxa = 7;\n",
        "  desconto = total * taxa / 100;\n",
        "elif (total >= 10000):\n",
        "  taxa = 11;\n",
        "  desconto = total * taxa / 100;\n",
        "else:\n",
        "  taxa = 0;\n",
        "  desconto = total * taxa / 100;\n",
        "\n",
        "#Imprime a saída de dados para o usuário\n",
        "print('O valor total sem desconto foi: R$ {:.2f}'.format(total));\n",
        "print('O valor total com desconto foi: R$ {:.2f} - (desconto {}%)'.format(total - desconto, taxa));"
      ]
    }
  ]
}