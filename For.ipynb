{
  "nbformat": 4,
  "nbformat_minor": 0,
  "metadata": {
    "colab": {
      "provenance": [],
      "authorship_tag": "ABX9TyNCie1/TfAQisCYzynQj9G+",
      "include_colab_link": true
    },
    "kernelspec": {
      "name": "python3",
      "display_name": "Python 3"
    },
    "language_info": {
      "name": "python"
    }
  },
  "cells": [
    {
      "cell_type": "markdown",
      "metadata": {
        "id": "view-in-github",
        "colab_type": "text"
      },
      "source": [
        "<a href=\"https://colab.research.google.com/github/Matheus-Pombeiro/programming-logic-and-algorithms-python/blob/main/For.ipynb\" target=\"_parent\"><img src=\"https://colab.research.google.com/assets/colab-badge.svg\" alt=\"Open In Colab\"/></a>"
      ]
    },
    {
      "cell_type": "code",
      "execution_count": null,
      "metadata": {
        "id": "L_hPNhbhxtEt"
      },
      "outputs": [],
      "source": [
        "multiplicationTable = int(input(\"Write a value you want to calculate in multiplication operation: \"));\n",
        "\n",
        "limit = int(input(\"write the limit value of your multiplication: \"));\n",
        "\n",
        "for i in range(1, limit + 1, 1):\n",
        "  print(\"{} * {} = {}\" .format(multiplicationTable, i, multiplicationTable * i));"
      ]
    }
  ]
}