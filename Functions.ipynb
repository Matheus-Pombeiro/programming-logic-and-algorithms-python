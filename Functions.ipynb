{
  "nbformat": 4,
  "nbformat_minor": 0,
  "metadata": {
    "colab": {
      "provenance": [],
      "authorship_tag": "ABX9TyNbKhmn6OPWeF51KtmcZAKC",
      "include_colab_link": true
    },
    "kernelspec": {
      "name": "python3",
      "display_name": "Python 3"
    },
    "language_info": {
      "name": "python"
    }
  },
  "cells": [
    {
      "cell_type": "markdown",
      "metadata": {
        "id": "view-in-github",
        "colab_type": "text"
      },
      "source": [
        "<a href=\"https://colab.research.google.com/github/Matheus-Pombeiro/programming-logic-and-algorithms-python/blob/main/Functions.ipynb\" target=\"_parent\"><img src=\"https://colab.research.google.com/assets/colab-badge.svg\" alt=\"Open In Colab\"/></a>"
      ]
    },
    {
      "cell_type": "code",
      "execution_count": null,
      "metadata": {
        "id": "6cCx0txWAxj3"
      },
      "outputs": [],
      "source": [
        "def border(text):\n",
        "  length = len(text);\n",
        "\n",
        "  if length:\n",
        "    print(\"+\", \"-\" * length, \"+\");\n",
        "    print(\"|\", text, \"|\");\n",
        "    print(\"+\", \"-\" * length, \"+\");\n",
        "\n",
        "border(\"Hello, world!\");"
      ]
    },
    {
      "cell_type": "code",
      "source": [
        "def counter(start, end, step):\n",
        "  for i in range(start, end, step):\n",
        "    print(i, end=\" \");\n",
        "\n",
        "counter(1, 11, 1);"
      ],
      "metadata": {
        "id": "Seye9jQMHHNS"
      },
      "execution_count": null,
      "outputs": []
    },
    {
      "cell_type": "code",
      "source": [
        "def crescentOrder(v1, v2, v3):\n",
        "  if (v1 and v2 and v3):\n",
        "\n",
        "    if (v1 > v2 and v1 > v3):\n",
        "\n",
        "      if (v2 > v3):\n",
        "        print(\"{} {} {}\" .format(v1, v2, v3));\n",
        "\n",
        "      else:\n",
        "        print(\"{} {} {}\" .format(v1, v3, v2));\n",
        "\n",
        "    elif (v2 > v1 and v2 > v3):\n",
        "\n",
        "      if (v1 > v3):\n",
        "        print(\"{} {} {}\" .format(v2, v1, v3));\n",
        "\n",
        "      else:\n",
        "        print(\"{} {} {}\" .format(v2, v3, v1));\n",
        "\n",
        "    elif (v3 > v1 and v3 > v2):\n",
        "\n",
        "      if (v1 > v2):\n",
        "        print(\"{} {} {}\" .format(v3, v1, v2));\n",
        "\n",
        "      else:\n",
        "        print(\"{} {} {}\" .format(v3, v2, v1));\n",
        "\n",
        "  else:\n",
        "    print(\"Please, write valid values...\");\n",
        "\n",
        "crescentOrder(4, 3, 7);"
      ],
      "metadata": {
        "id": "IHZE6j8wIInc"
      },
      "execution_count": null,
      "outputs": []
    },
    {
      "cell_type": "code",
      "source": [
        "def pairOrOdd(num):\n",
        "  if (num % 2 == 0):\n",
        "    return \"Pair\";\n",
        "  else:\n",
        "    return \"Odd\";\n",
        "\n",
        "print(pairOrOdd(int(input(\"Write a number: \"))));"
      ],
      "metadata": {
        "id": "n2ZEpug_Lp1g",
        "outputId": "e16dc657-4f75-48fb-b29a-a67bccea62d8",
        "colab": {
          "base_uri": "https://localhost:8080/"
        }
      },
      "execution_count": null,
      "outputs": [
        {
          "output_type": "stream",
          "name": "stdout",
          "text": [
            "Write a number: 5\n",
            "Odd\n"
          ]
        }
      ]
    },
    {
      "cell_type": "code",
      "source": [
        "def validString(str, min, max):\n",
        "  length = len(str);\n",
        "  if (length < min or length > max):\n",
        "    return \"Invalid\";\n",
        "  else:\n",
        "    return \"Valid\";\n",
        "\n",
        "str = input(\"Write a phrase: \");\n",
        "\n",
        "print(validString(str, 5, 20));"
      ],
      "metadata": {
        "id": "5dayUEglSsz-"
      },
      "execution_count": null,
      "outputs": []
    },
    {
      "cell_type": "code",
      "source": [
        "def validNumber(text, min, max):\n",
        "  num = int(input(text));\n",
        "  while num < min or num > max:\n",
        "    num = int(input(text));\n",
        "  return num;\n",
        "\n",
        "def factorial(num):\n",
        "  fact = 1;\n",
        "  if (validNumber == 0):\n",
        "    return fact;\n",
        "  else:\n",
        "    for i in range(1, num + 1, 1):\n",
        "      fact *= i;\n",
        "    return fact;\n",
        "\n",
        "aux = validNumber(\"Write a number (0 - 20): \", 0, 20);\n",
        "\n",
        "print(\"{}! = {}\" .format(aux, factorial(aux)));"
      ],
      "metadata": {
        "colab": {
          "base_uri": "https://localhost:8080/"
        },
        "id": "juPP4nrrWEXm",
        "outputId": "c04e1b0d-f1df-4090-aa45-a1eaf8f67d3d"
      },
      "execution_count": null,
      "outputs": [
        {
          "output_type": "stream",
          "name": "stdout",
          "text": [
            "Write a number (0 - 20): 2\n",
            "2! = 2\n"
          ]
        }
      ]
    }
  ]
}