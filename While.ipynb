{
  "nbformat": 4,
  "nbformat_minor": 0,
  "metadata": {
    "colab": {
      "provenance": [],
      "authorship_tag": "ABX9TyO5kt40u3EVgw1CrCV2t0AA",
      "include_colab_link": true
    },
    "kernelspec": {
      "name": "python3",
      "display_name": "Python 3"
    },
    "language_info": {
      "name": "python"
    }
  },
  "cells": [
    {
      "cell_type": "markdown",
      "metadata": {
        "id": "view-in-github",
        "colab_type": "text"
      },
      "source": [
        "<a href=\"https://colab.research.google.com/github/Matheus-Pombeiro/programming-logic-and-algorithms-python/blob/main/While.ipynb\" target=\"_parent\"><img src=\"https://colab.research.google.com/assets/colab-badge.svg\" alt=\"Open In Colab\"/></a>"
      ]
    },
    {
      "cell_type": "code",
      "execution_count": null,
      "metadata": {
        "colab": {
          "base_uri": "https://localhost:8080/"
        },
        "id": "2AymPhzFqnhx",
        "outputId": "66813590-57fc-4380-9f4a-3b07ceddb95a"
      },
      "outputs": [
        {
          "output_type": "stream",
          "name": "stdout",
          "text": [
            "Write an integer value: 10\n",
            "Write an integer value: -10\n",
            "Write an integer value: 0\n",
            "The writed numbers' average is: 10.0. And the quantity of numbers writed is: 1.\n"
          ]
        }
      ],
      "source": [
        "sum = 0;\n",
        "quantityOfNumbers = 0;\n",
        "aux = 0;\n",
        "\n",
        "while True:\n",
        "  aux = int(input(\"Write an integer value: \"));\n",
        "  if aux < 0:\n",
        "    continue;\n",
        "  if not aux:\n",
        "    break;\n",
        "  sum += aux;\n",
        "  quantityOfNumbers += 1;\n",
        "\n",
        "average = sum / quantityOfNumbers;\n",
        "\n",
        "print(\"The writed numbers' average is: {}. And the quantity of numbers writed is: {}.\" .format(average, quantityOfNumbers));\n"
      ]
    }
  ]
}