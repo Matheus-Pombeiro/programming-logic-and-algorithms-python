{
  "nbformat": 4,
  "nbformat_minor": 0,
  "metadata": {
    "colab": {
      "provenance": [],
      "authorship_tag": "ABX9TyPqMEfR9juimeZKfsKmSUPb",
      "include_colab_link": true
    },
    "kernelspec": {
      "name": "python3",
      "display_name": "Python 3"
    },
    "language_info": {
      "name": "python"
    }
  },
  "cells": [
    {
      "cell_type": "markdown",
      "metadata": {
        "id": "view-in-github",
        "colab_type": "text"
      },
      "source": [
        "<a href=\"https://colab.research.google.com/github/Matheus-Pombeiro/programming-logic-and-algorithms-python/blob/main/Inputs.ipynb\" target=\"_parent\"><img src=\"https://colab.research.google.com/assets/colab-badge.svg\" alt=\"Open In Colab\"/></a>"
      ]
    },
    {
      "cell_type": "code",
      "execution_count": null,
      "metadata": {
        "colab": {
          "base_uri": "https://localhost:8080/"
        },
        "id": "1qfIVZFPbpIV",
        "outputId": "b07b4cf0-3d78-404d-c3d9-a6249845c7b4"
      },
      "outputs": [
        {
          "output_type": "stream",
          "name": "stdout",
          "text": [
            "What is your name? Matheus\n",
            "What is your age? 23\n",
            "Oh! Your name is Matheus and you are 23 years old.\n"
          ]
        }
      ],
      "source": [
        "name = input(\"What is your name? \");\n",
        "age = int(input(\"What is your age? \"));\n",
        "\n",
        "print(\"Oh! Your name is {} and you are {} years old.\" .format(name, age));"
      ]
    }
  ]
}