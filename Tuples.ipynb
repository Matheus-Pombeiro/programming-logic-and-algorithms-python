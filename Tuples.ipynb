{
  "nbformat": 4,
  "nbformat_minor": 0,
  "metadata": {
    "colab": {
      "provenance": [],
      "authorship_tag": "ABX9TyNW2oK74OELvjlr0oP8OEgq",
      "include_colab_link": true
    },
    "kernelspec": {
      "name": "python3",
      "display_name": "Python 3"
    },
    "language_info": {
      "name": "python"
    }
  },
  "cells": [
    {
      "cell_type": "markdown",
      "metadata": {
        "id": "view-in-github",
        "colab_type": "text"
      },
      "source": [
        "<a href=\"https://colab.research.google.com/github/Matheus-Pombeiro/programming-logic-and-algorithms-python/blob/main/Tuples.ipynb\" target=\"_parent\"><img src=\"https://colab.research.google.com/assets/colab-badge.svg\" alt=\"Open In Colab\"/></a>"
      ]
    },
    {
      "cell_type": "code",
      "execution_count": null,
      "metadata": {
        "id": "pExoJbscBtLK"
      },
      "outputs": [],
      "source": [
        "languages = ('Python', 'JavaScript', 'Go', 'TypeScript', 'Rust', 'Kotlin', 'Java', 'C++', 'SQL', 'C#');\n",
        "\n",
        "length = len(languages);\n",
        "\n",
        "for i in range(0, length, 1):\n",
        "  print('{}.a - {}' .format(i + 1, languages[i]));\n",
        "\n",
        "print('\\n')\n",
        "\n",
        "for i in range(0, 3, 1):\n",
        "  print('{}.a - {}' .format(i + 1, languages[i]));\n",
        "\n",
        "print('\\n')\n",
        "\n",
        "for i in range(length - 5, length, 1):\n",
        "  print('{}.a - {}' .format(i + 1, languages[i]));\n",
        "\n",
        "print('\\n')\n",
        "\n",
        "pythonIndex = True;\n",
        "\n",
        "for i in range(0, length, 1):\n",
        "  if (languages[i] == 'Python'):\n",
        "    pythonIndex = i + 1;\n",
        "    print('Python Index: {}' .format(pythonIndex));"
      ]
    },
    {
      "cell_type": "code",
      "source": [
        "def bigger(msg, *num):\n",
        "  bigger = 0;\n",
        "  for i in range(0, len(num), 1):\n",
        "    if (num[i] > bigger):\n",
        "      bigger = num[i];\n",
        "  print(msg, bigger)\n",
        "\n",
        "bigger('The bigger number was: ', 0, 1, 2, 3, 4, 5, 6, 7, 8, 9);"
      ],
      "metadata": {
        "id": "QCOj0c6xV-2I"
      },
      "execution_count": null,
      "outputs": []
    }
  ]
}