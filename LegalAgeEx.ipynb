{
  "nbformat": 4,
  "nbformat_minor": 0,
  "metadata": {
    "colab": {
      "provenance": [],
      "authorship_tag": "ABX9TyP86x3fJo6ZlFU9M+Exd5zH",
      "include_colab_link": true
    },
    "kernelspec": {
      "name": "python3",
      "display_name": "Python 3"
    },
    "language_info": {
      "name": "python"
    }
  },
  "cells": [
    {
      "cell_type": "markdown",
      "metadata": {
        "id": "view-in-github",
        "colab_type": "text"
      },
      "source": [
        "<a href=\"https://colab.research.google.com/github/Matheus-Pombeiro/programming-logic-and-algorithms-python/blob/main/LegalAgeEx.ipynb\" target=\"_parent\"><img src=\"https://colab.research.google.com/assets/colab-badge.svg\" alt=\"Open In Colab\"/></a>"
      ]
    },
    {
      "cell_type": "code",
      "execution_count": null,
      "metadata": {
        "colab": {
          "base_uri": "https://localhost:8080/"
        },
        "id": "o2ygeAx2sRs2",
        "outputId": "53df2aa9-3f11-4b94-d29b-3ae8e4e26849"
      },
      "outputs": [
        {
          "output_type": "stream",
          "name": "stdout",
          "text": [
            "What year were you born? 2015\n",
            "What year are we in? 2024\n",
            "You aren't of legal age because you are 9 years old.\n"
          ]
        }
      ],
      "source": [
        "yearOfBirth = int(input(\"What year were you born? \"));\n",
        "actualYear = int(input(\"What year are we in? \"));\n",
        "\n",
        "age = actualYear - yearOfBirth;\n",
        "\n",
        "if (age >= 21):\n",
        "  print(\"You are of legal age because you are {} years old.\" .format(age));\n",
        "else:\n",
        "  print(\"You aren't of legal age because you are {} years old.\" .format(age));"
      ]
    }
  ]
}