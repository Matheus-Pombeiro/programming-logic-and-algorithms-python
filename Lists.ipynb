{
  "nbformat": 4,
  "nbformat_minor": 0,
  "metadata": {
    "colab": {
      "provenance": [],
      "authorship_tag": "ABX9TyNaZPD9eQt6ZNm/xeD5g7G6",
      "include_colab_link": true
    },
    "kernelspec": {
      "name": "python3",
      "display_name": "Python 3"
    },
    "language_info": {
      "name": "python"
    }
  },
  "cells": [
    {
      "cell_type": "markdown",
      "metadata": {
        "id": "view-in-github",
        "colab_type": "text"
      },
      "source": [
        "<a href=\"https://colab.research.google.com/github/Matheus-Pombeiro/programming-logic-and-algorithms-python/blob/main/Lists.ipynb\" target=\"_parent\"><img src=\"https://colab.research.google.com/assets/colab-badge.svg\" alt=\"Open In Colab\"/></a>"
      ]
    },
    {
      "cell_type": "code",
      "execution_count": null,
      "metadata": {
        "id": "KbDD_FbpYNTZ"
      },
      "outputs": [],
      "source": [
        "def menu():\n",
        "  print('Lista de Compras');\n",
        "  print('-' * 20);\n",
        "  print('Item | Quantidade | Valor Unitário | Total do Item\\n');\n",
        "\n",
        "item = [];\n",
        "mercado = [];\n",
        "\n",
        "menu();\n",
        "\n",
        "for i in range(3):\n",
        "  item.append(input('Digite o nome do item: '));\n",
        "\n",
        "  while True:\n",
        "    try:\n",
        "      item.append(int(input('Digite a quantidade: ')));\n",
        "      break;\n",
        "    except:\n",
        "      print('Você precisa digitar um número inteiro.');\n",
        "      continue;\n",
        "\n",
        "  while True:\n",
        "    try:\n",
        "      item.append(float(input('Digite o valor: R$ ')));\n",
        "      break;\n",
        "    except:\n",
        "      print('Você precisa digitar um número real');\n",
        "      continue;\n",
        "\n",
        "  mercado.append(item[:]);\n",
        "  item.clear();\n",
        "\n",
        "soma = 0;\n",
        "\n",
        "for item in mercado:\n",
        "  print('{} | {} | {} | {}'.format(item[0], item[1], item[2], item[1] * item[2]));\n",
        "  soma += item[1] * item[2];\n",
        "\n",
        "print('-' * 20);\n",
        "print('Total a ser pago: R$ {}'.format(soma));\n",
        "\n"
      ]
    },
    {
      "cell_type": "code",
      "source": [
        "def menu():\n",
        "  print('Student | Grades');\n",
        "  print('-' * 16, '\\n');\n",
        "\n",
        "grades = [];\n",
        "\n",
        "menu();\n",
        "\n",
        "while True:\n",
        "  try:\n",
        "    student = input('Student name: ');\n",
        "    break;\n",
        "  except:\n",
        "    print('Please, insert a valid name for the student.');\n",
        "    continue;\n",
        "\n",
        "print('\\nNow, insert the grade(s) to the {} student. Insert (-1) to see the grade average.\\n'.format(student));\n",
        "\n",
        "counter = 0;\n",
        "sum = 0;\n",
        "\n",
        "while True:\n",
        "  try:\n",
        "    grade = float(input('Grade: '));\n",
        "    if (grade == -1):\n",
        "      break;\n",
        "  except:\n",
        "    print('Please, insert a float number for the grade.');\n",
        "    continue;\n",
        "  else:\n",
        "    counter += 1;\n",
        "    grades.append(grade);\n",
        "\n",
        "for grade in grades:\n",
        "  sum += grade;\n",
        "\n",
        "try:\n",
        "  average = sum / counter;\n",
        "except ZeroDivisionError:\n",
        "  print('\\nPlease, insert one grade, at least.');\n",
        "else:\n",
        "  print('\\nThe grade average of {} student is: {}'.format(student, average));"
      ],
      "metadata": {
        "id": "AePK5_G3Lqsn"
      },
      "execution_count": null,
      "outputs": []
    },
    {
      "cell_type": "code",
      "source": [
        "pessoas = [];\n",
        "imc = lambda peso, altura: peso / (altura * altura);\n",
        "\n",
        "while True:\n",
        "  nome = input('Nome: ');\n",
        "  peso = float(input('Peso (kg):'));\n",
        "  altura = float(input('Altura (m): '));\n",
        "  x = imc(peso, altura);\n",
        "  pessoas.append([nome, peso, altura, x]);\n",
        "  res = input('Deseja fazer mais um cadastro? [s/n]: ');\n",
        "  if (res in 'Nn'):\n",
        "    break;\n",
        "\n",
        "print('Cadastros: ', pessoas);\n",
        "print('Total de Cadastros: ', len(pessoas));\n",
        "\n",
        "maior = 0;\n",
        "menor = 99;\n",
        "\n",
        "for i in range(0, len(pessoas), 1):\n",
        "  if (pessoas[i][3] > maior):\n",
        "    maior = pessoas[i][3];\n",
        "  else:\n",
        "    menor = pessoas[i][3];\n",
        "\n",
        "print('Maior IMC: ', maior);\n",
        "print('Menor IMC: ', menor);"
      ],
      "metadata": {
        "colab": {
          "base_uri": "https://localhost:8080/"
        },
        "id": "o2deoDRgUYUi",
        "outputId": "6e5b31e3-d7e0-47da-fc86-ba7a90ff4980"
      },
      "execution_count": null,
      "outputs": [
        {
          "output_type": "stream",
          "name": "stdout",
          "text": [
            "Nome: Matheus\n",
            "Peso (kg):72\n",
            "Altura (m): 1.83\n",
            "Deseja fazer mais um cadastro? [s/n]: n\n",
            "Cadastros:  [['Matheus', 72.0, 1.83, 21.49959688255845]]\n",
            "Total de Cadastros:  1\n",
            "Maior IMC:  21.49959688255845\n",
            "Menor IMC:  99\n"
          ]
        }
      ]
    }
  ]
}