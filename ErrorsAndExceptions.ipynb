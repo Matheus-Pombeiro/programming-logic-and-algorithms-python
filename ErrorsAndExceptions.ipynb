{
  "nbformat": 4,
  "nbformat_minor": 0,
  "metadata": {
    "colab": {
      "provenance": [],
      "authorship_tag": "ABX9TyPdq1VS30fnwwjAYInfUOUE",
      "include_colab_link": true
    },
    "kernelspec": {
      "name": "python3",
      "display_name": "Python 3"
    },
    "language_info": {
      "name": "python"
    }
  },
  "cells": [
    {
      "cell_type": "markdown",
      "metadata": {
        "id": "view-in-github",
        "colab_type": "text"
      },
      "source": [
        "<a href=\"https://colab.research.google.com/github/Matheus-Pombeiro/programming-logic-and-algorithms-python/blob/main/ErrorsAndExceptions.ipynb\" target=\"_parent\"><img src=\"https://colab.research.google.com/assets/colab-badge.svg\" alt=\"Open In Colab\"/></a>"
      ]
    },
    {
      "cell_type": "code",
      "execution_count": null,
      "metadata": {
        "id": "cnjDiwdvfMBH",
        "outputId": "4210c9a8-c007-45d3-ce56-d60d76fb4e65",
        "colab": {
          "base_uri": "https://localhost:8080/"
        }
      },
      "outputs": [
        {
          "name": "stdout",
          "output_type": "stream",
          "text": [
            "Write a number: kk\n",
            "Ops... You wrote an invalid number.\n",
            "Write a number: 5\n"
          ]
        }
      ],
      "source": [
        "while True:\n",
        "  try:\n",
        "    number = int(input(\"Write a number: \"));\n",
        "    break;\n",
        "  except ValueError:\n",
        "    print(\"Ops... You wrote an invalid number.\")"
      ]
    },
    {
      "cell_type": "code",
      "source": [
        "i = 1\n",
        "\n",
        "while True:\n",
        "  try:\n",
        "    name = input(\"Write your name: \");\n",
        "    ind = int(input(\"Write an indice: \"));\n",
        "    print(name[ind]);\n",
        "    break;\n",
        "  except ValueError:\n",
        "    print(\"Ops... The name you wrote is invalid.\");\n",
        "  except IndexError:\n",
        "    print(\"Ops... The indice you wrote is invalid.\");\n",
        "  finally:\n",
        "    print(\"{} attempts\" .format(i));\n",
        "    i += 1;\n"
      ],
      "metadata": {
        "id": "CbIr85dTg64X"
      },
      "execution_count": null,
      "outputs": []
    },
    {
      "cell_type": "code",
      "source": [
        "def div():\n",
        "  try:\n",
        "    n1 = int(input(\"Write a number: \"));\n",
        "    n2 = int(input(\"Write another number: \"));\n",
        "    res = n1 / n2;\n",
        "  except ZeroDivisionError:\n",
        "    print(\"Ops... Division by zero error.\");\n",
        "  except:\n",
        "    print(\"Ops... Something wrong happend.\");\n",
        "  else:\n",
        "    return res;\n",
        "  finally:\n",
        "    print(\"It will execute ever!\");\n",
        "print(div());"
      ],
      "metadata": {
        "id": "9OAMye5QjIwU"
      },
      "execution_count": null,
      "outputs": []
    }
  ]
}