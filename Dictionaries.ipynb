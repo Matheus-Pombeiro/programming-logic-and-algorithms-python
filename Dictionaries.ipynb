{
  "nbformat": 4,
  "nbformat_minor": 0,
  "metadata": {
    "colab": {
      "provenance": [],
      "authorship_tag": "ABX9TyM8RkDV60W3lum4s5FzhoDN",
      "include_colab_link": true
    },
    "kernelspec": {
      "name": "python3",
      "display_name": "Python 3"
    },
    "language_info": {
      "name": "python"
    }
  },
  "cells": [
    {
      "cell_type": "markdown",
      "metadata": {
        "id": "view-in-github",
        "colab_type": "text"
      },
      "source": [
        "<a href=\"https://colab.research.google.com/github/Matheus-Pombeiro/programming-logic-and-algorithms-python/blob/main/Dictionaries.ipynb\" target=\"_parent\"><img src=\"https://colab.research.google.com/assets/colab-badge.svg\" alt=\"Open In Colab\"/></a>"
      ]
    },
    {
      "cell_type": "code",
      "execution_count": null,
      "metadata": {
        "id": "K6IZxbib7_dj"
      },
      "outputs": [],
      "source": [
        "games = [];\n",
        "game = {};\n",
        "\n",
        "for i in range(1):\n",
        "  game['name'] = input('What is the name of the game? ');\n",
        "  game['videogame'] = input('For which console it was made? ');\n",
        "  game['year'] = input('What was the release year? ');\n",
        "  games.append(game.copy());\n",
        "\n",
        "print('-' * 20);\n",
        "\n",
        "for e in games:\n",
        "  for i,j in e.items():\n",
        "    print('The field {} has the value {}'.format(i, j));"
      ]
    },
    {
      "cell_type": "code",
      "source": [
        "games = {'name':[], 'videogame':[], 'year':[]};\n",
        "\n",
        "for i in range(1):\n",
        "  name = input('What is the name of the game? ');\n",
        "  videogame = input('For which console it was made? ');\n",
        "  year = input('What was the release year? ');\n",
        "  games['name'].append(name);\n",
        "  games['videogame'].append(videogame);\n",
        "  games['year'].append(year);\n",
        "\n",
        "print('-' * 20);\n",
        "print(games);"
      ],
      "metadata": {
        "id": "nb6N1cuZidge"
      },
      "execution_count": null,
      "outputs": []
    },
    {
      "cell_type": "code",
      "source": [
        "studentSituation = {'name':[], 'grade':[], 'approved':[]};\n",
        "\n",
        "studentSituation['name'] = input('Student Name: ');\n",
        "\n",
        "for i in range(3):\n",
        "  grade = float(input('Grade {}: '.format(i + 1)));\n",
        "  studentSituation['grade'].append(grade);\n",
        "\n",
        "sum = 0;\n",
        "\n",
        "for grade in studentSituation['grade']:\n",
        "  sum += grade;\n",
        "\n",
        "average = sum / len(studentSituation['grade']);\n",
        "print('\\nThe grade average of {} is: {}'.format(studentSituation['name'], average));\n",
        "\n",
        "if (average >= 7):\n",
        "  studentSituation['approved'] = 'Approved';\n",
        "elif(average > 5 and average < 7):\n",
        "  studentSituation['approved'] = 'In exam';\n",
        "else:\n",
        "  studentSituation['approved'] = 'Disapproved';\n",
        "\n",
        "print('\\n{} is {}'.format(studentSituation['name'], studentSituation['approved']));"
      ],
      "metadata": {
        "id": "6DxkOhfzHNI-"
      },
      "execution_count": null,
      "outputs": []
    },
    {
      "cell_type": "code",
      "source": [
        "stock = {\n",
        "    'Banana':[3.99, 10],\n",
        "    'Orange':[2.69, 10],\n",
        "    'Watermelon':[2.49, 10],\n",
        "    'Tomato':[4.79, 10],\n",
        "    'Ginger':[3.29, 10]\n",
        "};\n",
        "\n",
        "purchase = {};\n",
        "\n",
        "def menu():\n",
        "  msgMenu = 'Check our Hortifruit Stock';\n",
        "  print(msgMenu);\n",
        "  print('-' * len(msgMenu));\n",
        "  for item in stock:\n",
        "    print('{} - US$ {} - Units: {}'.format(item, stock[item][0], stock[item][1]));\n",
        "\n",
        "menu();\n",
        "\n",
        "while True:\n",
        "  try:\n",
        "    product = input('\\nWhich product do you want to buy? ');\n",
        "    if (product not in stock):\n",
        "      print('\\nSorry. We do not have this product in our store at the moment. Please, choose another one.');\n",
        "      continue;\n",
        "  except:\n",
        "    print('\\nPlease, insert a valid value.');\n",
        "    continue;\n",
        "\n",
        "  try:\n",
        "    units = int(input('\\nHow many units of {} do you want? '.format(product)));\n",
        "    if (stock[product][1] >= units):\n",
        "      print('\\nOk! I will separate for you.');\n",
        "      stock[product][1] -= units;\n",
        "    else:\n",
        "      print('\\nSorry. We do not have this quantity of {} in our store. Please, choose another quantity.'.format(product));\n",
        "      continue;\n",
        "  except:\n",
        "    print('\\nPlease, insert a valid value (integer) of unit for {}'.format(product));\n",
        "    continue;\n",
        "  else:\n",
        "    cartProduct = 0;\n",
        "    if (product in purchase):\n",
        "      cartProduct = purchase[product][1] + units;\n",
        "      purchase.pop(product);\n",
        "    else:\n",
        "      cartProduct = units;\n",
        "\n",
        "    purchase.setdefault(product, [stock[product][0], cartProduct]);\n",
        "\n",
        "  answer = input('\\nDo you want to continue shopping? [Y/N] ');\n",
        "  if (answer in 'Yy'):\n",
        "    continue;\n",
        "  else:\n",
        "    print('\\nThanks for shopping with us. Check back often!\\n')\n",
        "    break;\n",
        "\n",
        "outMsg = 'Check your purchase below.';\n",
        "print(outMsg);\n",
        "print('-' * len(outMsg));\n",
        "\n",
        "total = 0;\n",
        "\n",
        "for item in purchase:\n",
        "  print('{} - US$ {} - Units: {} - Subtotal: US$ {:.2f}'.format(item, purchase[item][0], purchase[item][1], purchase[item][0] * purchase[item][1]));\n",
        "  total += purchase[item][0] * purchase[item][1];\n",
        "\n",
        "totalMsg = 'Check the final total of your purchase below.'\n",
        "\n",
        "print('-' * len(totalMsg));\n",
        "print(totalMsg)\n",
        "print('\\nTotal: US$ {:.2f}'.format(total));\n"
      ],
      "metadata": {
        "id": "dWK98qkjm3Ir"
      },
      "execution_count": null,
      "outputs": []
    }
  ]
}